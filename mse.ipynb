{
  "nbformat": 4,
  "nbformat_minor": 0,
  "metadata": {
    "colab": {
      "provenance": [],
      "authorship_tag": "ABX9TyMTrmHDs5ouwrZh5GmIwDH4",
      "include_colab_link": true
    },
    "kernelspec": {
      "name": "python3",
      "display_name": "Python 3"
    },
    "language_info": {
      "name": "python"
    }
  },
  "cells": [
    {
      "cell_type": "markdown",
      "metadata": {
        "id": "view-in-github",
        "colab_type": "text"
      },
      "source": [
        "<a href=\"https://colab.research.google.com/github/Gunjari-Philip/Machine-Learning/blob/main/mse.ipynb\" target=\"_parent\"><img src=\"https://colab.research.google.com/assets/colab-badge.svg\" alt=\"Open In Colab\"/></a>"
      ]
    },
    {
      "cell_type": "code",
      "execution_count": 4,
      "metadata": {
        "colab": {
          "base_uri": "https://localhost:8080/"
        },
        "id": "3wpEd3RMYodr",
        "outputId": "be155f57-0376-401a-909b-465ccbec4659"
      },
      "outputs": [
        {
          "output_type": "stream",
          "name": "stdout",
          "text": [
            "Mean Squared Error: 0.375\n"
          ]
        }
      ],
      "source": [
        "# Mean Squared Error\n",
        "def mean_squared_error(y_actual, y_predicted):\n",
        "    n = len(y_actual)  #total number of samples\n",
        "    #squared_errors = [(ya - yp) ** 2 for ya, yp in zip(y_actual, y_predicted)]\n",
        "    # iterate over actual and predicted values together\n",
        "    for ya, yp in zip(y_actual, y_predicted):\n",
        "        error = ya - yp          # difference\n",
        "        squared = error ** 2     # square the difference\n",
        "        squared_errors.append(squared)  # store it in the list\n",
        "    mse = sum(squared_errors) / n\n",
        "    return mse\n",
        "\n",
        "squared_errors = []\n",
        "\n",
        "y_true = [3, -0.5, 2, 7]       # actual values\n",
        "y_pred = [2.5, 0.0, 2, 8]      # predicted values\n",
        "\n",
        "print(\"Mean Squared Error:\", mean_squared_error(y_true, y_pred))\n"
      ]
    },
    {
      "cell_type": "code",
      "source": [],
      "metadata": {
        "id": "x4KOlVyWZAjX"
      },
      "execution_count": null,
      "outputs": []
    }
  ]
}